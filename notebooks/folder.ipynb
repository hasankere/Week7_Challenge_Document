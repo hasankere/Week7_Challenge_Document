{
 "cells": [
  {
   "cell_type": "code",
   "execution_count": 1,
   "metadata": {},
   "outputs": [],
   "source": [
    "import os\n",
    "\n",
    "\n"
   ]
  },
  {
   "cell_type": "code",
   "execution_count": 2,
   "metadata": {},
   "outputs": [
    {
     "name": "stdout",
     "output_type": "stream",
     "text": [
      "Created file: my_project\\main.py\n",
      "Created file: my_project\\database.py\n",
      "Created file: my_project\\models.py\n",
      "Created file: my_project\\schemas.py\n",
      "Created file: my_project\\crud.py\n"
     ]
    }
   ],
   "source": [
    "# Define the folder structure\n",
    "project_dir = 'my_project'\n",
    "folders = ['']\n",
    "files = ['main.py', 'database.py', 'models.py', 'schemas.py', 'crud.py']\n",
    "\n",
    "# Create the project directory\n",
    "os.makedirs(project_dir, exist_ok=True)\n",
    "\n",
    "# Create the files inside the 'my_project' folder\n",
    "for file in files:\n",
    "    file_path = os.path.join(project_dir, file)\n",
    "    with open(file_path, 'w') as f:\n",
    "        f.write(\"# Placeholder content for \" + file)  # Writing a placeholder comment into each file\n",
    "        print(f\"Created file: {file_path}\")"
   ]
  },
  {
   "cell_type": "code",
   "execution_count": null,
   "metadata": {},
   "outputs": [],
   "source": []
  }
 ],
 "metadata": {
  "kernelspec": {
   "display_name": "Python 3",
   "language": "python",
   "name": "python3"
  },
  "language_info": {
   "name": "python",
   "version": "3.9.13"
  }
 },
 "nbformat": 4,
 "nbformat_minor": 2
}
