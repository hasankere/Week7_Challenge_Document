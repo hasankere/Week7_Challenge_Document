{
 "cells": [
  {
   "cell_type": "code",
   "execution_count": 1,
   "metadata": {},
   "outputs": [],
   "source": [
    "import sys\n",
    "import os\n",
    "import pandas as pd"
   ]
  },
  {
   "cell_type": "code",
   "execution_count": 2,
   "metadata": {},
   "outputs": [],
   "source": [
    "# Append the project root path to sys.path\n",
    "sys.path.append(os.path.abspath(\"..\"))"
   ]
  },
  {
   "cell_type": "code",
   "execution_count": 5,
   "metadata": {},
   "outputs": [
    {
     "name": "stdout",
     "output_type": "stream",
     "text": [
      "      Channel Title Channel Username   ID  \\\n",
      "0  Doctors Ethiopia       @DoctorsET  864   \n",
      "1  Doctors Ethiopia       @DoctorsET  863   \n",
      "2  Doctors Ethiopia       @DoctorsET  862   \n",
      "3  Doctors Ethiopia       @DoctorsET  861   \n",
      "4  Doctors Ethiopia       @DoctorsET  860   \n",
      "\n",
      "                                             Message  \\\n",
      "0  https://youtu.be/5DBoEm-8kmA?si=LDLuEecNfULJVD...   \n",
      "1  ዶክተርስ ኢትዮጵያ በ አዲስ አቀራረብ በ ቴሌቪዥን ፕሮግራሙን ለመጀመር ከ...   \n",
      "2  ሞት በስኳር \\n\\nለልጆቻችን የምናሲዘው ምሳቃ ሳናቀው እድሚያቸውን ይቀን...   \n",
      "3  ከ HIV የተፈወሰ ሰው አጋጥሟችሁ ያቃል ? ፈውስ እና ህክምና ?\\n\\nሙ...   \n",
      "4  በቅርብ ጊዜ በሃገራችን ላይ እየተስተዋለ ያለ የተመሳሳይ ፆታ ( Homos...   \n",
      "\n",
      "                        Date                 Media Path  \n",
      "0  2023-12-18 17:04:02+00:00  photos/@DoctorsET_864.jpg  \n",
      "1  2023-11-03 16:14:39+00:00  photos/@DoctorsET_863.jpg  \n",
      "2  2023-10-02 16:37:39+00:00  photos/@DoctorsET_862.jpg  \n",
      "3  2023-09-16 07:54:32+00:00  photos/@DoctorsET_861.jpg  \n",
      "4  2023-09-01 16:16:15+00:00  photos/@DoctorsET_860.jpg  \n"
     ]
    }
   ],
   "source": [
    "# File path to the CSV\n",
    "file_path = 'C:\\\\Users\\\\Hasan\\\\Desktop\\\\data science folder\\\\DoctorsET_data.csv'\n",
    "\n",
    "# Load the CSV without headers\n",
    "data = pd.read_csv(file_path)\n",
    "print(data.head())\n"
   ]
  },
  {
   "cell_type": "code",
   "execution_count": 13,
   "metadata": {},
   "outputs": [
    {
     "name": "stderr",
     "output_type": "stream",
     "text": [
      "C:\\Users\\Hasan\\AppData\\Local\\Temp\\ipykernel_20388\\3528589958.py:1: FutureWarning: A value is trying to be set on a copy of a DataFrame or Series through chained assignment using an inplace method.\n",
      "The behavior will change in pandas 3.0. This inplace method will never work because the intermediate object on which we are setting values always behaves as a copy.\n",
      "\n",
      "For example, when doing 'df[col].method(value, inplace=True)', try using 'df.method({col: value}, inplace=True)' or df[col] = df[col].method(value) instead, to perform the operation inplace on the original object.\n",
      "\n",
      "\n",
      "  data['Message'].fillna(\"No message\", inplace=True)\n",
      "C:\\Users\\Hasan\\AppData\\Local\\Temp\\ipykernel_20388\\3528589958.py:2: FutureWarning: A value is trying to be set on a copy of a DataFrame or Series through chained assignment using an inplace method.\n",
      "The behavior will change in pandas 3.0. This inplace method will never work because the intermediate object on which we are setting values always behaves as a copy.\n",
      "\n",
      "For example, when doing 'df[col].method(value, inplace=True)', try using 'df.method({col: value}, inplace=True)' or df[col] = df[col].method(value) instead, to perform the operation inplace on the original object.\n",
      "\n",
      "\n",
      "  data['Media Path'].fillna(\"No media\", inplace=True)\n"
     ]
    }
   ],
   "source": [
    "data['Message'].fillna(\"No message\", inplace=True)\n",
    "data['Media Path'].fillna(\"No media\", inplace=True)\n",
    "\n",
    "# Convert 'Date' to datetime format\n",
    "data['Date'] = pd.to_datetime(data['Date'], errors='coerce')\n"
   ]
  },
  {
   "cell_type": "code",
   "execution_count": 15,
   "metadata": {},
   "outputs": [],
   "source": [
    "data.drop_duplicates(subset=['ID'], keep='first', inplace=True)\n"
   ]
  },
  {
   "cell_type": "code",
   "execution_count": 16,
   "metadata": {},
   "outputs": [],
   "source": [
    "data['Channel Title'] = data['Channel Title'].str.strip().str.title()\n",
    "data['Channel Username'] = data['Channel Username'].str.strip().str.lower()\n",
    "data['Message'] = data['Message'].str.strip()\n"
   ]
  },
  {
   "cell_type": "code",
   "execution_count": 17,
   "metadata": {},
   "outputs": [],
   "source": [
    "data['Year'] = data['Date'].dt.year\n",
    "data['Month'] = data['Date'].dt.month\n",
    "data['Day'] = data['Date'].dt.day\n",
    "data['Hour'] = data['Date'].dt.hour\n"
   ]
  },
  {
   "cell_type": "code",
   "execution_count": 18,
   "metadata": {},
   "outputs": [],
   "source": [
    "import os\n",
    "\n",
    "# Extract the filename from path\n",
    "data['Media Filename'] = data['Media Path'].apply(lambda x: os.path.basename(x) if pd.notnull(x) else \"No media\")\n",
    "\n",
    "# Check if files exist (optional)\n",
    "data['Media Exists'] = data['Media Path'].apply(lambda x: os.path.exists(x) if pd.notnull(x) else False)\n"
   ]
  },
  {
   "cell_type": "code",
   "execution_count": 19,
   "metadata": {},
   "outputs": [
    {
     "data": {
      "image/png": "[encoded data removed]",
      "text/plain": [
       "<Figure size 1000x400 with 1 Axes>"
      ]
     },
     "metadata": {},
     "output_type": "display_data"
    }
   ],
   "source": [
    "import matplotlib.pyplot as plt\n",
    "\n",
    "data['Date'].dt.date.value_counts().sort_index().plot(kind='line', figsize=(10, 4), title=\"Messages Over Time\")\n",
    "plt.xlabel(\"Date\")\n",
    "plt.ylabel(\"Message Count\")\n",
    "plt.show()\n"
   ]
  },
  {
   "cell_type": "code",
   "execution_count": 20,
   "metadata": {},
   "outputs": [
    {
     "name": "stdout",
     "output_type": "stream",
     "text": [
      "[('በ', 22), ('https', 15), ('youtu', 15), ('be', 15), ('ላይ', 14), ('ወይ', 11), ('ስፖርት', 11), ('ይመልከቱ', 9), ('si', 8), ('ውስጥ', 8)]\n"
     ]
    }
   ],
   "source": [
    "from collections import Counter\n",
    "import re\n",
    "\n",
    "# Tokenize and count words\n",
    "all_words = ' '.join(data['Message']).lower()\n",
    "words = re.findall(r'\\b\\w+\\b', all_words)\n",
    "word_counts = Counter(words)\n",
    "\n",
    "# Get the top 10 words\n",
    "print(word_counts.most_common(10))\n"
   ]
  },
  {
   "cell_type": "code",
   "execution_count": 22,
   "metadata": {},
   "outputs": [
    {
     "name": "stdout",
     "output_type": "stream",
     "text": [
      "Cleaned data saved to C:\\Users\\Hasan\\Desktop\\data science folder\\DoctorsET_cleaned.csv\n"
     ]
    }
   ],
   "source": [
    "cleaned_file_path = 'C:\\\\Users\\\\Hasan\\\\Desktop\\\\data science folder\\\\DoctorsET_cleaned.csv'\n",
    "data.to_csv(cleaned_file_path, index=False)\n",
    "\n",
    "print(f\"Cleaned data saved to {cleaned_file_path}\")\n"
   ]
  },
  {
   "cell_type": "code",
   "execution_count": 26,
   "metadata": {},
   "outputs": [
    {
     "name": "stdout",
     "output_type": "stream",
     "text": [
      "Creating new Ultralytics Settings v0.0.6 file  \n",
      "View Ultralytics Settings with 'yolo settings' or at 'C:\\Users\\Hasan\\AppData\\Roaming\\Ultralytics\\settings.json'\n",
      "Update Settings with 'yolo settings key=value', i.e. 'yolo settings runs_dir=path/to/dir'. For help see https://docs.ultralytics.com/quickstart/#ultralytics-settings.\n",
      "Downloading https://github.com/ultralytics/assets/releases/download/v8.3.0/yolov8n.pt to 'yolov8n.pt'...\n"
     ]
    },
    {
     "name": "stderr",
     "output_type": "stream",
     "text": [
      "100%|██████████| 6.25M/6.25M [00:01<00:00, 4.33MB/s]\n"
     ]
    }
   ],
   "source": [
    "from ultralytics import YOLO\n",
    "import cv2\n",
    "import os\n",
    "\n",
    "# Load pre-trained YOLOv8 model\n",
    "model = YOLO(\"yolov8n.pt\")  # \"yolov8n.pt\" is a lightweight pre-trained model\n"
   ]
  },
  {
   "cell_type": "code",
   "execution_count": 37,
   "metadata": {},
   "outputs": [
    {
     "name": "stdout",
     "output_type": "stream",
     "text": [
      "Object detection complete!\n"
     ]
    }
   ],
   "source": [
    "# Directory where images are stored\n",
    "image_dir = \"C:\\\\Users\\\\Hasan\\\\Desktop\\\\data science folder\\\\photos\"\n",
    "output_dir = \"C:\\\\Users\\\\Hasan\\\\Desktop\\\\data science folder\\\\detected\"\n",
    "\n",
    "# Ensure output directory exists\n",
    "os.makedirs(output_dir, exist_ok=True)\n",
    "\n",
    "# Filter dataset to only rows where media exists\n",
    "df_images = data[data[\"Media Exists\"] == True]\n",
    "\n",
    "# Run YOLO on each image\n",
    "for index, row in df_images.iterrows():\n",
    "    image_path = os.path.join(image_dir, row[\"Media Filename\"])\n",
    "    \n",
    "    # Check if image file exists\n",
    "    if os.path.exists(image_path):\n",
    "        print(f\"Processing: {image_path}\")\n",
    "        \n",
    "        # Run YOLO object detection\n",
    "        results = model(image_path, save=True, save_dir=output_dir)\n",
    "        \n",
    "        # Save detected image path\n",
    "        data.at[index, \"Detected Image Path\"] = os.path.join(output_dir, row[\"Media Filename\"])\n",
    "    else:\n",
    "        print(f\"File not found: {image_path}\")\n",
    "\n",
    "# Save the dataset with detected image paths\n",
    "data.to_csv(\"C:\\\\Users\\\\Hasan\\\\Desktop\\\\DoctorsET_with_detections.csv\", index=False)\n",
    "print(\"Object detection complete!\")\n"
   ]
  },
  {
   "cell_type": "code",
   "execution_count": 38,
   "metadata": {},
   "outputs": [],
   "source": [
    "# Add an empty 'Detected Image Path' column if it's missing\n",
    "if \"Detected Image Path\" not in data.columns:\n",
    "    data[\"Detected Image Path\"] = None\n"
   ]
  },
  {
   "cell_type": "code",
   "execution_count": 43,
   "metadata": {},
   "outputs": [
    {
     "name": "stdout",
     "output_type": "stream",
     "text": [
      "✅ Detected images exist in: C:\\Users\\Hasan\\Desktop\\data science folder\\photos\n"
     ]
    }
   ],
   "source": [
    "import os\n",
    "\n",
    "output_dir = \"C:\\\\Users\\\\Hasan\\\\Desktop\\\\data science folder\\\\photos\"\n",
    "\n",
    "# Check if the directory exists and contains images\n",
    "if os.path.exists(output_dir) and len(os.listdir(output_dir)) > 0:\n",
    "    print(\"✅ Detected images exist in:\", output_dir)\n",
    "else:\n",
    "    print(\"❌ No detected images found! Re-run YOLO detection.\")\n"
   ]
  },
  {
   "cell_type": "code",
   "execution_count": 48,
   "metadata": {},
   "outputs": [
    {
     "name": "stdout",
     "output_type": "stream",
     "text": [
      "\n",
      "Found https://ultralytics.com/images/zidane.jpg locally at zidane.jpg\n",
      "image 1/1 c:\\Users\\Hasan\\Desktop\\EDA\\Week7_Challenge_Document\\notebooks\\zidane.jpg: 384x640 2 persons, 1 tie, 292.4ms\n",
      "Speed: 10.0ms preprocess, 292.4ms inference, 0.0ms postprocess per image at shape (1, 3, 384, 640)\n",
      "✅ YOLO model is working correctly!\n"
     ]
    }
   ],
   "source": [
    "from ultralytics import YOLO\n",
    "\n",
    "# Load YOLO model\n",
    "model = YOLO(\"yolov8n.pt\")\n",
    "\n",
    "# Test on a sample image from the web\n",
    "results = model(\"https://ultralytics.com/images/zidane.jpg\", show=True)\n",
    "\n",
    "print(\"✅ YOLO model is working correctly!\")\n"
   ]
  },
  {
   "cell_type": "code",
   "execution_count": 9,
   "metadata": {},
   "outputs": [
    {
     "name": "stdout",
     "output_type": "stream",
     "text": [
      "✅ Data loaded successfully!\n",
      "Index(['Channel Title', 'Channel Username', 'ID', 'Message', 'Date',\n",
      "       'Media Path', 'Year', 'Month', 'Day', 'Hour', 'Media Filename',\n",
      "       'Media Exists', 'Detected Image Path'],\n",
      "      dtype='object')\n"
     ]
    }
   ],
   "source": [
    "import pandas as pd\n",
    "\n",
    "# Load the dataset\n",
    "file_path = \"C:\\\\Users\\\\Hasan\\\\Desktop\\\\DoctorsET_with_detections.csv\"\n",
    "data = pd.read_csv(file_path)\n",
    "\n",
    "# Display columns to verify\n",
    "print(\"✅ Data loaded successfully!\")\n",
    "print(data.columns)\n"
   ]
  },
  {
   "cell_type": "code",
   "execution_count": 10,
   "metadata": {},
   "outputs": [
    {
     "name": "stdout",
     "output_type": "stream",
     "text": [
      "✅ File exists: C:\\Users\\Hasan\\Desktop\\data science folder\\photos\\@DoctorsET_864.jpg\n",
      "✅ File exists: C:\\Users\\Hasan\\Desktop\\data science folder\\photos\\@DoctorsET_863.jpg\n",
      "✅ File exists: C:\\Users\\Hasan\\Desktop\\data science folder\\photos\\@DoctorsET_862.jpg\n",
      "✅ File exists: C:\\Users\\Hasan\\Desktop\\data science folder\\photos\\@DoctorsET_861.jpg\n",
      "✅ File exists: C:\\Users\\Hasan\\Desktop\\data science folder\\photos\\@DoctorsET_860.jpg\n"
     ]
    }
   ],
   "source": [
    "import os\n",
    "\n",
    "image_dir = \"C:\\\\Users\\\\Hasan\\\\Desktop\\\\data science folder\\\\photos\"\n",
    "\n",
    "# Check if sample images exist\n",
    "sample_files = data[\"Media Filename\"].dropna().unique()[:5]  # First 5 images\n",
    "\n",
    "for filename in sample_files:\n",
    "    image_path = os.path.join(image_dir, filename)\n",
    "    if os.path.exists(image_path):\n",
    "        print(f\"✅ File exists: {image_path}\")\n",
    "    else:\n",
    "        print(f\"❌ File missing: {image_path}\")\n"
   ]
  },
  {
   "cell_type": "code",
   "execution_count": 11,
   "metadata": {},
   "outputs": [
    {
     "name": "stdout",
     "output_type": "stream",
     "text": [
      "✅ YOLO detection complete! CSV updated with detected image paths.\n"
     ]
    }
   ],
   "source": [
    "import os\n",
    "import cv2\n",
    "from ultralytics import YOLO\n",
    "\n",
    "# Load YOLO model\n",
    "model = YOLO(\"yolov8n.pt\")\n",
    "\n",
    "# Define directories\n",
    "image_dir = \"C:\\\\Users\\\\Hasan\\\\Desktop\\\\data science folder\\\\photos\"\n",
    "output_dir = \"C:\\\\Users\\\\Hasan\\\\Desktop\\\\data science folder\\\\detected\"\n",
    "\n",
    "# Ensure output directory exists\n",
    "os.makedirs(output_dir, exist_ok=True)\n",
    "\n",
    "# Run YOLO on all images and save detected images\n",
    "for index, row in data.iterrows():\n",
    "    if row[\"Media Exists\"]:  # Process only valid images\n",
    "        image_path = os.path.join(image_dir, row[\"Media Filename\"])\n",
    "\n",
    "        if os.path.exists(image_path):\n",
    "            print(f\"Processing image: {image_path}\")\n",
    "\n",
    "            # Run YOLO object detection\n",
    "            results = model(image_path)\n",
    "\n",
    "            # Save detected image in the output directory\n",
    "            detected_image_path = os.path.join(output_dir, row[\"Media Filename\"])\n",
    "            results.save(filename=detected_image_path)  # Save detected image\n",
    "\n",
    "            # Update DataFrame\n",
    "            data.at[index, \"Detected Image Path\"] = detected_image_path\n",
    "        else:\n",
    "            print(f\"❌ Skipping missing file: {image_path}\")\n",
    "\n",
    "# Save the updated dataset\n",
    "data.to_csv(\"C:\\\\Users\\\\Hasan\\\\Desktop\\\\DoctorsET_with_detections.csv\", index=False)\n",
    "print(\"✅ YOLO detection complete! CSV updated with detected image paths.\")\n"
   ]
  },
  {
   "cell_type": "code",
   "execution_count": 18,
   "metadata": {},
   "outputs": [
    {
     "name": "stdout",
     "output_type": "stream",
     "text": [
      "Signed in successfully as Hasan Kere Obse; remember to not break the ToS or you will risk an account ban!\n",
      "📥 Scraping data from https://t.me/DoctorsET...\n",
      "✅ Data saved: C:\\Users\\Hasan\\Desktop\\data science folder\\DoctorsET.csv\n",
      "Signed in successfully as Hasan Kere Obse; remember to not break the ToS or you will risk an account ban!\n",
      "📥 Scraping data from https://t.me/lobelia4cosmetics...\n",
      "✅ Data saved: C:\\Users\\Hasan\\Desktop\\data science folder\\lobelia4cosmetics.csv\n",
      "Signed in successfully as Hasan Kere Obse; remember to not break the ToS or you will risk an account ban!\n",
      "📥 Scraping data from https://t.me/yetenaweg...\n",
      "✅ Data saved: C:\\Users\\Hasan\\Desktop\\data science folder\\yetenaweg.csv\n",
      "Signed in successfully as Hasan Kere Obse; remember to not break the ToS or you will risk an account ban!\n",
      "📥 Scraping data from https://t.me/EAHCI...\n",
      "✅ Data saved: C:\\Users\\Hasan\\Desktop\\data science folder\\EAHCI.csv\n",
      "🚀 Scraping complete!\n"
     ]
    }
   ],
   "source": [
    "import os\n",
    "import pandas as pd\n",
    "import nest_asyncio\n",
    "import asyncio\n",
    "from telethon import TelegramClient\n",
    "import time\n",
    "\n",
    "# Apply nest_asyncio to fix the event loop issue in Jupyter\n",
    "nest_asyncio.apply()\n",
    "\n",
    "# 🔑 Telegram API credentials (Replace with your own)\n",
    "API_ID = \"27904749\"\n",
    "API_HASH = \"5d9f2efaa785a2c4d04b5043088c2813\"\n",
    "PHONE_NUMBER = \"+251912026082\"\n",
    "\n",
    "# 🔗 Telegram channels to scrape\n",
    "channels = [\n",
    "    \"https://t.me/DoctorsET\",\n",
    "    \"https://t.me/lobelia4cosmetics\",\n",
    "    \"https://t.me/yetenaweg\",\n",
    "    \"https://t.me/EAHCI\"\n",
    "]\n",
    "\n",
    "# 📂 Storage directory\n",
    "output_dir = \"C:\\\\Users\\\\Hasan\\\\Desktop\\\\data science folder\"\n",
    "os.makedirs(output_dir, exist_ok=True)\n",
    "\n",
    "# 📌 Define the async function for scraping\n",
    "async def scrape_telegram():\n",
    "    for channel in channels:\n",
    "        session_name = f\"session_{channel.replace('https://t.me/', '')}\"  # Unique session per channel\n",
    "        async with TelegramClient(session_name, API_ID, API_HASH) as client:\n",
    "            print(f\"📥 Scraping data from {channel}...\")\n",
    "\n",
    "            # Get entity (channel ID)\n",
    "            entity = await client.get_entity(channel)\n",
    "\n",
    "            # Fetch messages\n",
    "            messages = []\n",
    "            async for message in client.iter_messages(entity, limit=500):  # Adjust limit as needed\n",
    "                messages.append([\n",
    "                    channel,\n",
    "                    message.id,\n",
    "                    message.date,\n",
    "                    message.sender_id,\n",
    "                    message.text,\n",
    "                    message.photo.file_reference if message.photo else None\n",
    "                ])\n",
    "\n",
    "            # Save to CSV\n",
    "            df = pd.DataFrame(messages, columns=[\"Channel\", \"Message_ID\", \"Date\", \"Sender_ID\", \"Text\", \"Media\"])\n",
    "            csv_path = os.path.join(output_dir, f\"{channel.replace('https://t.me/', '')}.csv\")\n",
    "            df.to_csv(csv_path, index=False)\n",
    "            print(f\"✅ Data saved: {csv_path}\")\n",
    "\n",
    "    print(\"🚀 Scraping complete!\")\n",
    "\n",
    "# 🚀 Run the async function properly in Jupyter\n",
    "asyncio.get_event_loop().run_until_complete(scrape_telegram())\n"
   ]
  },
  {
   "cell_type": "code",
   "execution_count": 19,
   "metadata": {},
   "outputs": [
    {
     "name": "stdout",
     "output_type": "stream",
     "text": [
      "📥 Scraping data from https://t.me/DoctorsET...\n",
      "📥 Scraping data from https://t.me/lobelia4cosmetics...\n",
      "📥 Scraping data from https://t.me/yetenaweg...\n",
      "📥 Scraping data from https://t.me/EAHCI...\n",
      "✅ All data saved in: C:\\Users\\Hasan\\Desktop\\data science folder\\all_channels_data.csv\n",
      "🚀 Scraping complete!\n"
     ]
    }
   ],
   "source": [
    "import os\n",
    "import pandas as pd\n",
    "import nest_asyncio\n",
    "import asyncio\n",
    "from telethon import TelegramClient\n",
    "\n",
    "# Apply nest_asyncio to fix the event loop issue in Jupyter\n",
    "nest_asyncio.apply()\n",
    "\n",
    "# 🔑 Telegram API credentials (Replace with your own)\n",
    "API_ID = \"27904749\"\n",
    "API_HASH = \"5d9f2efaa785a2c4d04b5043088c2813\"\n",
    "PHONE_NUMBER = \"+251912026082\"\n",
    "\n",
    "# 🔗 Telegram channels to scrape\n",
    "channels = [\n",
    "    \"https://t.me/DoctorsET\",\n",
    "    \"https://t.me/lobelia4cosmetics\",\n",
    "    \"https://t.me/yetenaweg\",\n",
    "    \"https://t.me/EAHCI\"\n",
    "]\n",
    "\n",
    "# 📂 Storage directory\n",
    "output_dir = \"C:\\\\Users\\\\Hasan\\\\Desktop\\\\data science folder\"\n",
    "os.makedirs(output_dir, exist_ok=True)\n",
    "\n",
    "# List to store all messages\n",
    "all_messages = []\n",
    "\n",
    "# 📌 Define the async function for scraping\n",
    "async def scrape_telegram():\n",
    "    for channel in channels:\n",
    "        session_name = f\"session_{channel.replace('https://t.me/', '')}\"  # Unique session per channel\n",
    "        async with TelegramClient(session_name, API_ID, API_HASH) as client:\n",
    "            print(f\"📥 Scraping data from {channel}...\")\n",
    "\n",
    "            # Get entity (channel ID)\n",
    "            entity = await client.get_entity(channel)\n",
    "\n",
    "            # Fetch messages\n",
    "            async for message in client.iter_messages(entity, limit=500):  # Adjust limit as needed\n",
    "                all_messages.append([\n",
    "                    channel,\n",
    "                    message.id,\n",
    "                    message.date,\n",
    "                    message.sender_id,\n",
    "                    message.text,\n",
    "                    message.photo.file_reference if message.photo else None\n",
    "                ])\n",
    "\n",
    "    # Save all collected messages to one CSV\n",
    "    df = pd.DataFrame(all_messages, columns=[\"Channel\", \"Message_ID\", \"Date\", \"Sender_ID\", \"Text\", \"Media\"])\n",
    "    csv_path = os.path.join(output_dir, \"all_channels_data.csv\")\n",
    "    df.to_csv(csv_path, index=False)\n",
    "    print(f\"✅ All data saved in: {csv_path}\")\n",
    "\n",
    "    print(\"🚀 Scraping complete!\")\n",
    "\n",
    "# 🚀 Run the async function properly in Jupyter\n",
    "asyncio.get_event_loop().run_until_complete(scrape_telegram())\n"
   ]
  }
 ],
 "metadata": {
  "kernelspec": {
   "display_name": "base",
   "language": "python",
   "name": "python3"
  },
  "language_info": {
   "codemirror_mode": {
    "name": "ipython",
    "version": 3
   },
   "file_extension": ".py",
   "mimetype": "text/x-python",
   "name": "python",
   "nbconvert_exporter": "python",
   "pygments_lexer": "ipython3",
   "version": "3.10.15"
  }
 },
 "nbformat": 4,
 "nbformat_minor": 2
}
